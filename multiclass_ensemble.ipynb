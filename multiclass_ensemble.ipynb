{
 "cells": [
  {
   "cell_type": "code",
   "execution_count": 1,
   "metadata": {},
   "outputs": [],
   "source": [
    "%matplotlib inline\n",
    "import numpy as np\n",
    "import scipy as sp\n",
    "import matplotlib as mpl\n",
    "import matplotlib.cm as cm\n",
    "import matplotlib.pyplot as plt\n",
    "import pandas as pd\n",
    "pd.set_option('display.width', 1000)\n",
    "pd.set_option('display.max_columns', 300)\n",
    "pd.set_option('display.notebook_repr_html', True)\n",
    "import seaborn as sns\n",
    "sns.set_style(\"whitegrid\")\n",
    "sns.set_context(\"poster\")\n",
    "from sklearn.model_selection import train_test_split\n",
    "from sklearn.linear_model import SGDClassifier, LogisticRegression\n",
    "from sklearn.metrics import classification_report\n",
    "\n",
    "from sklearn.ensemble import RandomForestClassifier"
   ]
  },
  {
   "cell_type": "code",
   "execution_count": 2,
   "metadata": {},
   "outputs": [],
   "source": [
    "df=pd.read_csv(\"MCI_data2014_2019_multiclass.csv\")"
   ]
  },
  {
   "cell_type": "code",
   "execution_count": null,
   "metadata": {},
   "outputs": [],
   "source": []
  },
  {
   "cell_type": "code",
   "execution_count": 3,
   "metadata": {},
   "outputs": [
    {
     "data": {
      "text/html": [
       "<div>\n",
       "<style scoped>\n",
       "    .dataframe tbody tr th:only-of-type {\n",
       "        vertical-align: middle;\n",
       "    }\n",
       "\n",
       "    .dataframe tbody tr th {\n",
       "        vertical-align: top;\n",
       "    }\n",
       "\n",
       "    .dataframe thead th {\n",
       "        text-align: right;\n",
       "    }\n",
       "</style>\n",
       "<table border=\"1\" class=\"dataframe\">\n",
       "  <thead>\n",
       "    <tr style=\"text-align: right;\">\n",
       "      <th></th>\n",
       "      <th>occurrenceyear</th>\n",
       "      <th>occurrenceday</th>\n",
       "      <th>occurrencedayofyear</th>\n",
       "      <th>occurrencehour</th>\n",
       "      <th>Hood_ID</th>\n",
       "      <th>Long</th>\n",
       "      <th>Lat</th>\n",
       "      <th>Employment rate</th>\n",
       "      <th>Unemployment rate</th>\n",
       "      <th>Unsuitable rate</th>\n",
       "      <th>population</th>\n",
       "      <th>Postsecondary</th>\n",
       "      <th>Postsecondary rate</th>\n",
       "      <th>income</th>\n",
       "      <th>density</th>\n",
       "      <th>target</th>\n",
       "      <th>month</th>\n",
       "      <th>day</th>\n",
       "      <th>premise_type</th>\n",
       "    </tr>\n",
       "  </thead>\n",
       "  <tbody>\n",
       "    <tr>\n",
       "      <th>0</th>\n",
       "      <td>2014</td>\n",
       "      <td>24</td>\n",
       "      <td>83</td>\n",
       "      <td>1</td>\n",
       "      <td>132</td>\n",
       "      <td>-79.199081</td>\n",
       "      <td>43.800281</td>\n",
       "      <td>55.5</td>\n",
       "      <td>10.5</td>\n",
       "      <td>17.3</td>\n",
       "      <td>43794</td>\n",
       "      <td>16960</td>\n",
       "      <td>0.387268</td>\n",
       "      <td>29573</td>\n",
       "      <td>4948</td>\n",
       "      <td>0</td>\n",
       "      <td>0</td>\n",
       "      <td>0</td>\n",
       "      <td>0</td>\n",
       "    </tr>\n",
       "    <tr>\n",
       "      <th>1</th>\n",
       "      <td>2014</td>\n",
       "      <td>27</td>\n",
       "      <td>270</td>\n",
       "      <td>16</td>\n",
       "      <td>76</td>\n",
       "      <td>-79.386383</td>\n",
       "      <td>43.662472</td>\n",
       "      <td>56.2</td>\n",
       "      <td>10.2</td>\n",
       "      <td>12.6</td>\n",
       "      <td>25797</td>\n",
       "      <td>17505</td>\n",
       "      <td>0.678567</td>\n",
       "      <td>56526</td>\n",
       "      <td>14097</td>\n",
       "      <td>1</td>\n",
       "      <td>1</td>\n",
       "      <td>1</td>\n",
       "      <td>1</td>\n",
       "    </tr>\n",
       "    <tr>\n",
       "      <th>2</th>\n",
       "      <td>2014</td>\n",
       "      <td>24</td>\n",
       "      <td>83</td>\n",
       "      <td>6</td>\n",
       "      <td>1</td>\n",
       "      <td>-79.612595</td>\n",
       "      <td>43.720406</td>\n",
       "      <td>58.0</td>\n",
       "      <td>9.6</td>\n",
       "      <td>17.4</td>\n",
       "      <td>33312</td>\n",
       "      <td>13425</td>\n",
       "      <td>0.403008</td>\n",
       "      <td>31771</td>\n",
       "      <td>1117</td>\n",
       "      <td>1</td>\n",
       "      <td>0</td>\n",
       "      <td>0</td>\n",
       "      <td>0</td>\n",
       "    </tr>\n",
       "    <tr>\n",
       "      <th>3</th>\n",
       "      <td>2014</td>\n",
       "      <td>24</td>\n",
       "      <td>83</td>\n",
       "      <td>15</td>\n",
       "      <td>47</td>\n",
       "      <td>-79.349121</td>\n",
       "      <td>43.782772</td>\n",
       "      <td>55.1</td>\n",
       "      <td>9.6</td>\n",
       "      <td>15.8</td>\n",
       "      <td>27051</td>\n",
       "      <td>15035</td>\n",
       "      <td>0.555802</td>\n",
       "      <td>37379</td>\n",
       "      <td>6441</td>\n",
       "      <td>1</td>\n",
       "      <td>0</td>\n",
       "      <td>0</td>\n",
       "      <td>2</td>\n",
       "    </tr>\n",
       "    <tr>\n",
       "      <th>4</th>\n",
       "      <td>2014</td>\n",
       "      <td>3</td>\n",
       "      <td>123</td>\n",
       "      <td>2</td>\n",
       "      <td>90</td>\n",
       "      <td>-79.458778</td>\n",
       "      <td>43.664490</td>\n",
       "      <td>69.9</td>\n",
       "      <td>5.6</td>\n",
       "      <td>6.7</td>\n",
       "      <td>14366</td>\n",
       "      <td>7790</td>\n",
       "      <td>0.542253</td>\n",
       "      <td>49709</td>\n",
       "      <td>5442</td>\n",
       "      <td>2</td>\n",
       "      <td>2</td>\n",
       "      <td>1</td>\n",
       "      <td>0</td>\n",
       "    </tr>\n",
       "  </tbody>\n",
       "</table>\n",
       "</div>"
      ],
      "text/plain": [
       "   occurrenceyear  occurrenceday  occurrencedayofyear  occurrencehour  Hood_ID       Long        Lat  Employment rate  Unemployment rate  Unsuitable rate  population  Postsecondary  Postsecondary rate  income  density  target  month  day  premise_type\n",
       "0            2014             24                   83               1      132 -79.199081  43.800281             55.5               10.5             17.3       43794          16960            0.387268   29573     4948       0      0    0             0\n",
       "1            2014             27                  270              16       76 -79.386383  43.662472             56.2               10.2             12.6       25797          17505            0.678567   56526    14097       1      1    1             1\n",
       "2            2014             24                   83               6        1 -79.612595  43.720406             58.0                9.6             17.4       33312          13425            0.403008   31771     1117       1      0    0             0\n",
       "3            2014             24                   83              15       47 -79.349121  43.782772             55.1                9.6             15.8       27051          15035            0.555802   37379     6441       1      0    0             2\n",
       "4            2014              3                  123               2       90 -79.458778  43.664490             69.9                5.6              6.7       14366           7790            0.542253   49709     5442       2      2    1             0"
      ]
     },
     "execution_count": 3,
     "metadata": {},
     "output_type": "execute_result"
    }
   ],
   "source": [
    "df.head()"
   ]
  },
  {
   "cell_type": "code",
   "execution_count": 4,
   "metadata": {},
   "outputs": [
    {
     "data": {
      "text/plain": [
       "(205321, 19)"
      ]
     },
     "execution_count": 4,
     "metadata": {},
     "output_type": "execute_result"
    }
   ],
   "source": [
    "df.shape"
   ]
  },
  {
   "cell_type": "code",
   "execution_count": 5,
   "metadata": {},
   "outputs": [
    {
     "data": {
      "text/plain": [
       "0    110609\n",
       "1     43214\n",
       "4     23330\n",
       "2     21500\n",
       "3      6668\n",
       "Name: target, dtype: int64"
      ]
     },
     "execution_count": 5,
     "metadata": {},
     "output_type": "execute_result"
    }
   ],
   "source": [
    "df['target'].value_counts()"
   ]
  },
  {
   "cell_type": "code",
   "execution_count": 6,
   "metadata": {},
   "outputs": [],
   "source": [
    "X= df.drop(['target'],axis = 1).values"
   ]
  },
  {
   "cell_type": "code",
   "execution_count": 7,
   "metadata": {},
   "outputs": [],
   "source": [
    "y = df['target'].values"
   ]
  },
  {
   "cell_type": "markdown",
   "metadata": {},
   "source": [
    "### Using SMOTE to balance the dataset"
   ]
  },
  {
   "cell_type": "code",
   "execution_count": 8,
   "metadata": {},
   "outputs": [],
   "source": [
    "from imblearn import over_sampling\n",
    "from imblearn.over_sampling import SMOTE"
   ]
  },
  {
   "cell_type": "code",
   "execution_count": 9,
   "metadata": {},
   "outputs": [
    {
     "name": "stderr",
     "output_type": "stream",
     "text": [
      "C:\\Users\\ketao\\Anaconda3\\lib\\site-packages\\imblearn\\utils\\_validation.py:638: FutureWarning: Pass sampling_strategy=all as keyword args. From version 0.9 passing these as positional arguments will result in an error\n",
      "  FutureWarning)\n"
     ]
    }
   ],
   "source": [
    "smote = SMOTE('all')"
   ]
  },
  {
   "cell_type": "code",
   "execution_count": 10,
   "metadata": {},
   "outputs": [],
   "source": [
    "X_sm,y_sm = smote.fit_sample(X, y)"
   ]
  },
  {
   "cell_type": "code",
   "execution_count": 11,
   "metadata": {},
   "outputs": [
    {
     "data": {
      "text/plain": [
       "{0: 110609, 1: 110609, 2: 110609, 3: 110609, 4: 110609}"
      ]
     },
     "execution_count": 11,
     "metadata": {},
     "output_type": "execute_result"
    }
   ],
   "source": [
    "unique, counts = np.unique(y_sm, return_counts=True)\n",
    "dict(zip(unique, counts))"
   ]
  },
  {
   "cell_type": "markdown",
   "metadata": {},
   "source": [
    "### dataset scaling"
   ]
  },
  {
   "cell_type": "code",
   "execution_count": 12,
   "metadata": {},
   "outputs": [],
   "source": [
    "from sklearn.preprocessing import StandardScaler"
   ]
  },
  {
   "cell_type": "code",
   "execution_count": 13,
   "metadata": {},
   "outputs": [],
   "source": [
    "scaler = StandardScaler()\n"
   ]
  },
  {
   "cell_type": "code",
   "execution_count": 14,
   "metadata": {},
   "outputs": [],
   "source": [
    "X = scaler.fit_transform(X_sm)\n"
   ]
  },
  {
   "cell_type": "markdown",
   "metadata": {},
   "source": [
    "### train test dataset split"
   ]
  },
  {
   "cell_type": "code",
   "execution_count": 15,
   "metadata": {},
   "outputs": [],
   "source": [
    "X_train, X_test, y_train, y_test = train_test_split(X, y_sm, test_size=0.2)"
   ]
  },
  {
   "cell_type": "markdown",
   "metadata": {},
   "source": [
    "### Ensemble"
   ]
  },
  {
   "cell_type": "markdown",
   "metadata": {},
   "source": [
    "#### Bagging"
   ]
  },
  {
   "cell_type": "code",
   "execution_count": 17,
   "metadata": {},
   "outputs": [],
   "source": [
    "from sklearn.ensemble import BaggingClassifier"
   ]
  },
  {
   "cell_type": "code",
   "execution_count": 18,
   "metadata": {},
   "outputs": [],
   "source": [
    "base_est = LogisticRegression(penalty='l2', max_iter=500, C=1,random_state=101)"
   ]
  },
  {
   "cell_type": "code",
   "execution_count": 19,
   "metadata": {},
   "outputs": [],
   "source": [
    "bagging_classifier = BaggingClassifier(base_estimator=base_est,\n",
    "                        n_estimators=20, random_state=0)\n",
    "bagging_classifier.fit(X_train, y_train)\n",
    "bagging_predictions = bagging_classifier.predict(X_test)"
   ]
  },
  {
   "cell_type": "code",
   "execution_count": 20,
   "metadata": {},
   "outputs": [
    {
     "name": "stdout",
     "output_type": "stream",
     "text": [
      "              precision    recall  f1-score   support\n",
      "\n",
      "           0       0.30      0.15      0.20     22273\n",
      "           1       0.33      0.42      0.37     22347\n",
      "           2       0.27      0.23      0.25     21841\n",
      "           3       0.30      0.23      0.26     22086\n",
      "           4       0.41      0.66      0.51     22062\n",
      "\n",
      "    accuracy                           0.34    110609\n",
      "   macro avg       0.32      0.34      0.32    110609\n",
      "weighted avg       0.32      0.34      0.32    110609\n",
      "\n"
     ]
    }
   ],
   "source": [
    "print(classification_report(y_test, bagging_predictions))"
   ]
  },
  {
   "cell_type": "markdown",
   "metadata": {},
   "source": [
    "### Stacking"
   ]
  },
  {
   "cell_type": "code",
   "execution_count": 21,
   "metadata": {},
   "outputs": [],
   "source": [
    "from sklearn.ensemble import StackingClassifier\n",
    "from sklearn.svm import LinearSVC\n",
    "from sklearn import tree\n",
    "from sklearn.neural_network import MLPClassifier\n",
    "from sklearn.neighbors import KNeighborsClassifier\n",
    "\n",
    "estimators = [\n",
    "    ('nn', MLPClassifier(max_iter = 1000)),\n",
    "    ('knn', KNeighborsClassifier(n_neighbors = 70))\n",
    "]\n",
    "clf = StackingClassifier(\n",
    "    estimators=estimators, final_estimator=tree.DecisionTreeClassifier()\n",
    ")"
   ]
  },
  {
   "cell_type": "code",
   "execution_count": 22,
   "metadata": {},
   "outputs": [],
   "source": [
    "model = clf.fit(X_train, y_train)\n",
    "y_pred = model.predict(X_test)"
   ]
  },
  {
   "cell_type": "code",
   "execution_count": 23,
   "metadata": {},
   "outputs": [
    {
     "name": "stdout",
     "output_type": "stream",
     "text": [
      "              precision    recall  f1-score   support\n",
      "\n",
      "           0       0.41      0.41      0.41     22273\n",
      "           1       0.45      0.45      0.45     22347\n",
      "           2       0.41      0.41      0.41     21841\n",
      "           3       0.51      0.51      0.51     22086\n",
      "           4       0.48      0.49      0.48     22062\n",
      "\n",
      "    accuracy                           0.45    110609\n",
      "   macro avg       0.45      0.45      0.45    110609\n",
      "weighted avg       0.45      0.45      0.45    110609\n",
      "\n"
     ]
    }
   ],
   "source": [
    "print(classification_report(y_test, y_pred))"
   ]
  },
  {
   "cell_type": "code",
   "execution_count": null,
   "metadata": {},
   "outputs": [],
   "source": []
  },
  {
   "cell_type": "markdown",
   "metadata": {},
   "source": [
    "### LogisticRegression"
   ]
  },
  {
   "cell_type": "code",
   "execution_count": null,
   "metadata": {},
   "outputs": [],
   "source": []
  },
  {
   "cell_type": "code",
   "execution_count": 16,
   "metadata": {},
   "outputs": [],
   "source": [
    "lr = LogisticRegression(penalty='l2', max_iter=500, C=1,random_state=101)"
   ]
  },
  {
   "cell_type": "code",
   "execution_count": 17,
   "metadata": {},
   "outputs": [
    {
     "data": {
      "text/plain": [
       "LogisticRegression(C=1, max_iter=500, random_state=101)"
      ]
     },
     "execution_count": 17,
     "metadata": {},
     "output_type": "execute_result"
    }
   ],
   "source": [
    "lr.fit(X_train, y_train)"
   ]
  },
  {
   "cell_type": "code",
   "execution_count": 18,
   "metadata": {},
   "outputs": [],
   "source": [
    "y_predict_test = lr.predict(X_test)"
   ]
  },
  {
   "cell_type": "code",
   "execution_count": 19,
   "metadata": {},
   "outputs": [
    {
     "name": "stdout",
     "output_type": "stream",
     "text": [
      "              precision    recall  f1-score   support\n",
      "\n",
      "           0       0.30      0.15      0.20     22267\n",
      "           1       0.33      0.42      0.37     22094\n",
      "           2       0.27      0.23      0.25     22104\n",
      "           3       0.31      0.24      0.27     22009\n",
      "           4       0.42      0.67      0.51     22135\n",
      "\n",
      "    accuracy                           0.34    110609\n",
      "   macro avg       0.32      0.34      0.32    110609\n",
      "weighted avg       0.32      0.34      0.32    110609\n",
      "\n"
     ]
    }
   ],
   "source": [
    "print(classification_report(y_test, y_predict_test))"
   ]
  },
  {
   "cell_type": "markdown",
   "metadata": {},
   "source": [
    "### DecisionTree"
   ]
  },
  {
   "cell_type": "code",
   "execution_count": 69,
   "metadata": {},
   "outputs": [],
   "source": [
    "from sklearn import tree\n",
    "dt_classifier = tree.DecisionTreeClassifier()\n",
    "dt_classifier.fit(X_train, y_train)\n",
    "dt_predictions = dt_classifier.predict(X_test)"
   ]
  },
  {
   "cell_type": "code",
   "execution_count": 70,
   "metadata": {},
   "outputs": [
    {
     "name": "stdout",
     "output_type": "stream",
     "text": [
      "              precision    recall  f1-score   support\n",
      "\n",
      "           0       0.69      0.68      0.68     22188\n",
      "           1       0.65      0.62      0.64     21982\n",
      "           2       0.66      0.68      0.67     21963\n",
      "           3       0.74      0.78      0.76     22084\n",
      "           4       0.71      0.70      0.70     22392\n",
      "\n",
      "    accuracy                           0.69    110609\n",
      "   macro avg       0.69      0.69      0.69    110609\n",
      "weighted avg       0.69      0.69      0.69    110609\n",
      "\n"
     ]
    }
   ],
   "source": [
    "print(classification_report(y_test, dt_predictions))"
   ]
  },
  {
   "cell_type": "code",
   "execution_count": null,
   "metadata": {},
   "outputs": [],
   "source": []
  },
  {
   "cell_type": "markdown",
   "metadata": {},
   "source": [
    "### Naive Bayes"
   ]
  },
  {
   "cell_type": "code",
   "execution_count": 74,
   "metadata": {},
   "outputs": [],
   "source": [
    "from sklearn.naive_bayes import GaussianNB"
   ]
  },
  {
   "cell_type": "code",
   "execution_count": 76,
   "metadata": {},
   "outputs": [],
   "source": [
    "gnb_classifier = GaussianNB()\n",
    "gnb_classifier.fit(X_train, y_train)\n",
    "gnb_predictions = gnb_classifier.predict(X_test)"
   ]
  },
  {
   "cell_type": "code",
   "execution_count": 78,
   "metadata": {},
   "outputs": [
    {
     "name": "stdout",
     "output_type": "stream",
     "text": [
      "              precision    recall  f1-score   support\n",
      "\n",
      "           0       0.32      0.11      0.17     22188\n",
      "           1       0.35      0.37      0.36     21982\n",
      "           2       0.26      0.24      0.25     21963\n",
      "           3       0.33      0.22      0.27     22084\n",
      "           4       0.34      0.68      0.45     22392\n",
      "\n",
      "    accuracy                           0.33    110609\n",
      "   macro avg       0.32      0.32      0.30    110609\n",
      "weighted avg       0.32      0.33      0.30    110609\n",
      "\n"
     ]
    }
   ],
   "source": [
    "print(classification_report(y_test, gnb_predictions))"
   ]
  },
  {
   "cell_type": "markdown",
   "metadata": {},
   "source": []
  },
  {
   "cell_type": "code",
   "execution_count": null,
   "metadata": {},
   "outputs": [],
   "source": []
  },
  {
   "cell_type": "code",
   "execution_count": null,
   "metadata": {},
   "outputs": [],
   "source": []
  },
  {
   "cell_type": "markdown",
   "metadata": {},
   "source": [
    "### Random Forest"
   ]
  },
  {
   "cell_type": "code",
   "execution_count": 28,
   "metadata": {},
   "outputs": [],
   "source": [
    "rf_classifier = RandomForestClassifier()\n",
    "rf_classifier.fit(X_train, y_train)\n",
    "rf_predictions = rf_classifier.predict(X_test)"
   ]
  },
  {
   "cell_type": "code",
   "execution_count": 29,
   "metadata": {},
   "outputs": [
    {
     "name": "stdout",
     "output_type": "stream",
     "text": [
      "              precision    recall  f1-score   support\n",
      "\n",
      "           0       0.77      0.78      0.77     22188\n",
      "           1       0.78      0.80      0.79     21982\n",
      "           2       0.86      0.81      0.84     21963\n",
      "           3       0.89      0.92      0.90     22084\n",
      "           4       0.85      0.85      0.85     22392\n",
      "\n",
      "    accuracy                           0.83    110609\n",
      "   macro avg       0.83      0.83      0.83    110609\n",
      "weighted avg       0.83      0.83      0.83    110609\n",
      "\n"
     ]
    }
   ],
   "source": [
    "print(classification_report(y_test, rf_predictions))"
   ]
  },
  {
   "cell_type": "code",
   "execution_count": null,
   "metadata": {},
   "outputs": [],
   "source": []
  },
  {
   "cell_type": "code",
   "execution_count": null,
   "metadata": {},
   "outputs": [],
   "source": []
  },
  {
   "cell_type": "code",
   "execution_count": null,
   "metadata": {},
   "outputs": [],
   "source": []
  },
  {
   "cell_type": "code",
   "execution_count": null,
   "metadata": {},
   "outputs": [],
   "source": []
  },
  {
   "cell_type": "code",
   "execution_count": null,
   "metadata": {},
   "outputs": [],
   "source": []
  },
  {
   "cell_type": "code",
   "execution_count": null,
   "metadata": {},
   "outputs": [],
   "source": []
  },
  {
   "cell_type": "code",
   "execution_count": null,
   "metadata": {},
   "outputs": [],
   "source": []
  },
  {
   "cell_type": "code",
   "execution_count": null,
   "metadata": {},
   "outputs": [],
   "source": []
  },
  {
   "cell_type": "code",
   "execution_count": null,
   "metadata": {},
   "outputs": [],
   "source": []
  },
  {
   "cell_type": "code",
   "execution_count": null,
   "metadata": {},
   "outputs": [],
   "source": []
  },
  {
   "cell_type": "code",
   "execution_count": null,
   "metadata": {},
   "outputs": [],
   "source": []
  },
  {
   "cell_type": "code",
   "execution_count": null,
   "metadata": {},
   "outputs": [],
   "source": []
  },
  {
   "cell_type": "code",
   "execution_count": null,
   "metadata": {},
   "outputs": [],
   "source": [
    "\n"
   ]
  },
  {
   "cell_type": "code",
   "execution_count": null,
   "metadata": {},
   "outputs": [],
   "source": []
  },
  {
   "cell_type": "code",
   "execution_count": null,
   "metadata": {},
   "outputs": [],
   "source": []
  },
  {
   "cell_type": "code",
   "execution_count": null,
   "metadata": {},
   "outputs": [],
   "source": []
  }
 ],
 "metadata": {
  "kernelspec": {
   "display_name": "Python 3",
   "language": "python",
   "name": "python3"
  },
  "language_info": {
   "codemirror_mode": {
    "name": "ipython",
    "version": 3
   },
   "file_extension": ".py",
   "mimetype": "text/x-python",
   "name": "python",
   "nbconvert_exporter": "python",
   "pygments_lexer": "ipython3",
   "version": "3.7.3"
  }
 },
 "nbformat": 4,
 "nbformat_minor": 4
}
